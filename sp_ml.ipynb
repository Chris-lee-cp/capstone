{
 "metadata": {
  "name": "",
  "signature": "sha256:19befdafd399bb7a9fae8f19839eb2b761e69077bef94f7fc0329a06fec435e7"
 },
 "nbformat": 3,
 "nbformat_minor": 0,
 "worksheets": [
  {
   "cells": [
    {
     "cell_type": "code",
     "collapsed": false,
     "input": [
      "# Copyright 2017 Junghoon Lee\n",
      "#   jhoon.chris@gmail.com"
     ],
     "language": "python",
     "metadata": {},
     "outputs": [],
     "prompt_number": 1
    },
    {
     "cell_type": "code",
     "collapsed": false,
     "input": [
      "import pandas_datareader as pdr\n",
      "import pandas as pd \n",
      "import matplotlib.pyplot as plt\n",
      "import datetime\n",
      "from pandas import Series, DataFrame, Panel"
     ],
     "language": "python",
     "metadata": {},
     "outputs": [],
     "prompt_number": 2
    },
    {
     "cell_type": "code",
     "collapsed": false,
     "input": [
      "class SpMl:\n",
      "    'stock prediction class'\n",
      "    \n",
      "    ivv = pd.DataFrame()\n",
      "    gld = pd.DataFrame()\n",
      "    nm_ivv = pd.DataFrame()\n",
      "    nm_gld = pd.DataFrame()\n",
      "    prices = pd.DataFrame()\n",
      "    features = pd.DataFrame()\n",
      "    rm10_ivv = pd.DataFrame()\n",
      "    rm20_ivv = pd.DataFrame()\n",
      "    rm40_ivv = pd.DataFrame()\n",
      "    rm10_ivv_ = pd.DataFrame()\n",
      "    rm20_ivv_ = pd.DataFrame()\n",
      "    rm40_ivv_ = pd.DataFrame()\n",
      "\n",
      "    def __init__(self):\n",
      "        pass\n",
      "    \n",
      "    \n",
      "    def get_input_feature(self, ticker, start_date, end_date):\n",
      "        print \"loading : \", ticker, \"from : \", start_date, \" to : \", end_date\n",
      "        return pdr.get_data_yahoo(ticker,start_date, end_date)\n",
      "    \n",
      "    \n",
      "    def get_input_feature_from_file(self, file):\n",
      "        print \"loading : \", file\n",
      "        return pd.read_csv(file)\n",
      "    "
     ],
     "language": "python",
     "metadata": {},
     "outputs": [],
     "prompt_number": 3
    },
    {
     "cell_type": "code",
     "collapsed": false,
     "input": [],
     "language": "python",
     "metadata": {},
     "outputs": []
    }
   ],
   "metadata": {}
  }
 ]
}